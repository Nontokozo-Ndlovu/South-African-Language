{
 "cells": [
  {
   "cell_type": "code",
   "execution_count": 1,
   "id": "766f3e61",
   "metadata": {
    "_cell_guid": "b1076dfc-b9ad-4769-8c92-a6c4dae69d19",
    "_uuid": "8f2839f25d086af736a60e9eeb907d3b93b6e0e5",
    "execution": {
     "iopub.execute_input": "2023-06-24T00:00:10.678644Z",
     "iopub.status.busy": "2023-06-24T00:00:10.678130Z",
     "iopub.status.idle": "2023-06-24T00:00:10.689455Z",
     "shell.execute_reply": "2023-06-24T00:00:10.688389Z"
    },
    "papermill": {
     "duration": 0.023726,
     "end_time": "2023-06-24T00:00:10.691962",
     "exception": false,
     "start_time": "2023-06-24T00:00:10.668236",
     "status": "completed"
    },
    "tags": []
   },
   "outputs": [
    {
     "name": "stdout",
     "output_type": "stream",
     "text": [
      "/kaggle/input/south-african-language-identification-hack-2023/sample_submission.csv\n",
      "/kaggle/input/south-african-language-identification-hack-2023/test_set.csv\n",
      "/kaggle/input/south-african-language-identification-hack-2023/train_set.csv\n"
     ]
    }
   ],
   "source": [
    "# This Python 3 environment comes with many helpful analytics libraries installed\n",
    "# It is defined by the kaggle/python Docker image: https://github.com/kaggle/docker-python\n",
    "# For example, here's several helpful packages to load\n",
    "\n",
    "import numpy as np # linear algebra\n",
    "import pandas as pd # data processing, CSV file I/O (e.g. pd.read_csv)\n",
    "\n",
    "# Input data files are available in the read-only \"../input/\" directory\n",
    "# For example, running this (by clicking run or pressing Shift+Enter) will list all files under the input directory\n",
    "\n",
    "import os\n",
    "for dirname, _, filenames in os.walk('/kaggle/input'):\n",
    "    for filename in filenames:\n",
    "        print(os.path.join(dirname, filename))\n",
    "\n",
    "# You can write up to 20GB to the current directory (/kaggle/working/) that gets preserved as output when you create a version using \"Save & Run All\" \n",
    "# You can also write temporary files to /kaggle/temp/, but they won't be saved outside of the current session"
   ]
  },
  {
   "cell_type": "code",
   "execution_count": 2,
   "id": "bfed21b3",
   "metadata": {
    "execution": {
     "iopub.execute_input": "2023-06-24T00:00:10.706102Z",
     "iopub.status.busy": "2023-06-24T00:00:10.705697Z",
     "iopub.status.idle": "2023-06-24T00:00:10.710378Z",
     "shell.execute_reply": "2023-06-24T00:00:10.709044Z"
    },
    "papermill": {
     "duration": 0.014024,
     "end_time": "2023-06-24T00:00:10.712235",
     "exception": false,
     "start_time": "2023-06-24T00:00:10.698211",
     "status": "completed"
    },
    "tags": []
   },
   "outputs": [],
   "source": [
    "import numpy as np\n",
    "import pandas as pd"
   ]
  },
  {
   "cell_type": "code",
   "execution_count": 3,
   "id": "0f21bb99",
   "metadata": {
    "execution": {
     "iopub.execute_input": "2023-06-24T00:00:10.726527Z",
     "iopub.status.busy": "2023-06-24T00:00:10.725977Z",
     "iopub.status.idle": "2023-06-24T00:00:11.027356Z",
     "shell.execute_reply": "2023-06-24T00:00:11.025640Z"
    },
    "papermill": {
     "duration": 0.311506,
     "end_time": "2023-06-24T00:00:11.029948",
     "exception": false,
     "start_time": "2023-06-24T00:00:10.718442",
     "status": "completed"
    },
    "tags": []
   },
   "outputs": [],
   "source": [
    "df_train = pd.read_csv('/kaggle/input/south-african-language-identification-hack-2023/train_set.csv')\n",
    "df_test = pd.read_csv('/kaggle/input/south-african-language-identification-hack-2023/test_set.csv')"
   ]
  },
  {
   "cell_type": "markdown",
   "id": "36ed2248",
   "metadata": {},
   "source": [
    "### Load Data"
   ]
  },
  {
   "cell_type": "code",
   "execution_count": 4,
   "id": "403b594b",
   "metadata": {
    "execution": {
     "iopub.execute_input": "2023-06-24T00:00:11.043407Z",
     "iopub.status.busy": "2023-06-24T00:00:11.043073Z",
     "iopub.status.idle": "2023-06-24T00:00:11.073219Z",
     "shell.execute_reply": "2023-06-24T00:00:11.072260Z"
    },
    "papermill": {
     "duration": 0.040369,
     "end_time": "2023-06-24T00:00:11.076455",
     "exception": false,
     "start_time": "2023-06-24T00:00:11.036086",
     "status": "completed"
    },
    "tags": []
   },
   "outputs": [
    {
     "data": {
      "text/html": [
       "<div>\n",
       "<style scoped>\n",
       "    .dataframe tbody tr th:only-of-type {\n",
       "        vertical-align: middle;\n",
       "    }\n",
       "\n",
       "    .dataframe tbody tr th {\n",
       "        vertical-align: top;\n",
       "    }\n",
       "\n",
       "    .dataframe thead th {\n",
       "        text-align: right;\n",
       "    }\n",
       "</style>\n",
       "<table border=\"1\" class=\"dataframe\">\n",
       "  <thead>\n",
       "    <tr style=\"text-align: right;\">\n",
       "      <th></th>\n",
       "      <th>lang_id</th>\n",
       "      <th>text</th>\n",
       "    </tr>\n",
       "  </thead>\n",
       "  <tbody>\n",
       "    <tr>\n",
       "      <th>0</th>\n",
       "      <td>xho</td>\n",
       "      <td>umgaqo-siseko wenza amalungiselelo kumaziko ax...</td>\n",
       "    </tr>\n",
       "    <tr>\n",
       "      <th>1</th>\n",
       "      <td>xho</td>\n",
       "      <td>i-dha iya kuba nobulumko bokubeka umsebenzi na...</td>\n",
       "    </tr>\n",
       "    <tr>\n",
       "      <th>2</th>\n",
       "      <td>eng</td>\n",
       "      <td>the province of kwazulu-natal department of tr...</td>\n",
       "    </tr>\n",
       "    <tr>\n",
       "      <th>3</th>\n",
       "      <td>nso</td>\n",
       "      <td>o netefatša gore o ba file dilo ka moka tše le...</td>\n",
       "    </tr>\n",
       "    <tr>\n",
       "      <th>4</th>\n",
       "      <td>ven</td>\n",
       "      <td>khomishini ya ndinganyiso ya mbeu yo ewa maana...</td>\n",
       "    </tr>\n",
       "  </tbody>\n",
       "</table>\n",
       "</div>"
      ],
      "text/plain": [
       "  lang_id                                               text\n",
       "0     xho  umgaqo-siseko wenza amalungiselelo kumaziko ax...\n",
       "1     xho  i-dha iya kuba nobulumko bokubeka umsebenzi na...\n",
       "2     eng  the province of kwazulu-natal department of tr...\n",
       "3     nso  o netefatša gore o ba file dilo ka moka tše le...\n",
       "4     ven  khomishini ya ndinganyiso ya mbeu yo ewa maana..."
      ]
     },
     "execution_count": 4,
     "metadata": {},
     "output_type": "execute_result"
    }
   ],
   "source": [
    "df_train.head()"
   ]
  },
  {
   "cell_type": "code",
   "execution_count": null,
   "id": "dac69551",
   "metadata": {},
   "outputs": [],
   "source": [
    "df= df_train"
   ]
  },
  {
   "cell_type": "code",
   "execution_count": 6,
   "id": "8abeb5df",
   "metadata": {
    "execution": {
     "iopub.execute_input": "2023-06-24T00:00:11.113451Z",
     "iopub.status.busy": "2023-06-24T00:00:11.112926Z",
     "iopub.status.idle": "2023-06-24T00:00:12.565711Z",
     "shell.execute_reply": "2023-06-24T00:00:12.564237Z"
    },
    "papermill": {
     "duration": 1.463327,
     "end_time": "2023-06-24T00:00:12.568134",
     "exception": false,
     "start_time": "2023-06-24T00:00:11.104807",
     "status": "completed"
    },
    "tags": []
   },
   "outputs": [],
   "source": [
    "from sklearn import preprocessing\n",
    "le = preprocessing.LabelEncoder()"
   ]
  },
  {
   "cell_type": "code",
   "execution_count": null,
   "id": "7753ae70",
   "metadata": {},
   "outputs": [],
   "source": [
    "df['lang_id'] = le.fit_transform(df['lang_id'])"
   ]
  },
  {
   "cell_type": "code",
   "execution_count": null,
   "id": "bfda1a1c",
   "metadata": {},
   "outputs": [],
   "source": [
    "df"
   ]
  },
  {
   "cell_type": "code",
   "execution_count": 9,
   "id": "fdaa6726",
   "metadata": {
    "execution": {
     "iopub.execute_input": "2023-06-24T00:00:12.642083Z",
     "iopub.status.busy": "2023-06-24T00:00:12.641290Z",
     "iopub.status.idle": "2023-06-24T00:00:13.353279Z",
     "shell.execute_reply": "2023-06-24T00:00:13.351879Z"
    },
    "papermill": {
     "duration": 0.721803,
     "end_time": "2023-06-24T00:00:13.355468",
     "exception": false,
     "start_time": "2023-06-24T00:00:12.633665",
     "status": "completed"
    },
    "tags": []
   },
   "outputs": [],
   "source": [
    "\n",
    "from sklearn.feature_extraction.text import HashingVectorizer\n",
    "\n",
    "\n",
    "vectorizer = HashingVectorizer(n_features=33000)\n",
    "\n",
    "\n",
    "vector = vectorizer.transform(df['text'])"
   ]
  },
  {
   "cell_type": "code",
   "execution_count": 10,
   "id": "bea80bc5",
   "metadata": {
    "execution": {
     "iopub.execute_input": "2023-06-24T00:00:13.369196Z",
     "iopub.status.busy": "2023-06-24T00:00:13.368758Z",
     "iopub.status.idle": "2023-06-24T00:00:13.497845Z",
     "shell.execute_reply": "2023-06-24T00:00:13.497131Z"
    },
    "papermill": {
     "duration": 0.138448,
     "end_time": "2023-06-24T00:00:13.500094",
     "exception": false,
     "start_time": "2023-06-24T00:00:13.361646",
     "status": "completed"
    },
    "tags": []
   },
   "outputs": [],
   "source": [
    "from sklearn.model_selection import train_test_split\n",
    "X_train, X_test, y_train, y_test = train_test_split(vector, df['lang_id'], test_size=0.2, random_state=10)"
   ]
  },
  {
   "cell_type": "code",
   "execution_count": 11,
   "id": "37548408",
   "metadata": {
    "execution": {
     "iopub.execute_input": "2023-06-24T00:00:13.514660Z",
     "iopub.status.busy": "2023-06-24T00:00:13.514196Z",
     "iopub.status.idle": "2023-06-24T00:00:13.624864Z",
     "shell.execute_reply": "2023-06-24T00:00:13.624162Z"
    },
    "papermill": {
     "duration": 0.120342,
     "end_time": "2023-06-24T00:00:13.626992",
     "exception": false,
     "start_time": "2023-06-24T00:00:13.506650",
     "status": "completed"
    },
    "tags": []
   },
   "outputs": [],
   "source": [
    "from sklearn.linear_model import LogisticRegression\n",
    "lm = LogisticRegression(solver='sag')"
   ]
  },
  {
   "cell_type": "code",
   "execution_count": 12,
   "id": "4ca65c62",
   "metadata": {
    "execution": {
     "iopub.execute_input": "2023-06-24T00:00:13.641396Z",
     "iopub.status.busy": "2023-06-24T00:00:13.640849Z",
     "iopub.status.idle": "2023-06-24T00:00:14.915058Z",
     "shell.execute_reply": "2023-06-24T00:00:14.913473Z"
    },
    "papermill": {
     "duration": 1.284153,
     "end_time": "2023-06-24T00:00:14.917515",
     "exception": false,
     "start_time": "2023-06-24T00:00:13.633362",
     "status": "completed"
    },
    "tags": []
   },
   "outputs": [
    {
     "data": {
      "text/html": [
       "<style>#sk-container-id-1 {color: black;background-color: white;}#sk-container-id-1 pre{padding: 0;}#sk-container-id-1 div.sk-toggleable {background-color: white;}#sk-container-id-1 label.sk-toggleable__label {cursor: pointer;display: block;width: 100%;margin-bottom: 0;padding: 0.3em;box-sizing: border-box;text-align: center;}#sk-container-id-1 label.sk-toggleable__label-arrow:before {content: \"▸\";float: left;margin-right: 0.25em;color: #696969;}#sk-container-id-1 label.sk-toggleable__label-arrow:hover:before {color: black;}#sk-container-id-1 div.sk-estimator:hover label.sk-toggleable__label-arrow:before {color: black;}#sk-container-id-1 div.sk-toggleable__content {max-height: 0;max-width: 0;overflow: hidden;text-align: left;background-color: #f0f8ff;}#sk-container-id-1 div.sk-toggleable__content pre {margin: 0.2em;color: black;border-radius: 0.25em;background-color: #f0f8ff;}#sk-container-id-1 input.sk-toggleable__control:checked~div.sk-toggleable__content {max-height: 200px;max-width: 100%;overflow: auto;}#sk-container-id-1 input.sk-toggleable__control:checked~label.sk-toggleable__label-arrow:before {content: \"▾\";}#sk-container-id-1 div.sk-estimator input.sk-toggleable__control:checked~label.sk-toggleable__label {background-color: #d4ebff;}#sk-container-id-1 div.sk-label input.sk-toggleable__control:checked~label.sk-toggleable__label {background-color: #d4ebff;}#sk-container-id-1 input.sk-hidden--visually {border: 0;clip: rect(1px 1px 1px 1px);clip: rect(1px, 1px, 1px, 1px);height: 1px;margin: -1px;overflow: hidden;padding: 0;position: absolute;width: 1px;}#sk-container-id-1 div.sk-estimator {font-family: monospace;background-color: #f0f8ff;border: 1px dotted black;border-radius: 0.25em;box-sizing: border-box;margin-bottom: 0.5em;}#sk-container-id-1 div.sk-estimator:hover {background-color: #d4ebff;}#sk-container-id-1 div.sk-parallel-item::after {content: \"\";width: 100%;border-bottom: 1px solid gray;flex-grow: 1;}#sk-container-id-1 div.sk-label:hover label.sk-toggleable__label {background-color: #d4ebff;}#sk-container-id-1 div.sk-serial::before {content: \"\";position: absolute;border-left: 1px solid gray;box-sizing: border-box;top: 0;bottom: 0;left: 50%;z-index: 0;}#sk-container-id-1 div.sk-serial {display: flex;flex-direction: column;align-items: center;background-color: white;padding-right: 0.2em;padding-left: 0.2em;position: relative;}#sk-container-id-1 div.sk-item {position: relative;z-index: 1;}#sk-container-id-1 div.sk-parallel {display: flex;align-items: stretch;justify-content: center;background-color: white;position: relative;}#sk-container-id-1 div.sk-item::before, #sk-container-id-1 div.sk-parallel-item::before {content: \"\";position: absolute;border-left: 1px solid gray;box-sizing: border-box;top: 0;bottom: 0;left: 50%;z-index: -1;}#sk-container-id-1 div.sk-parallel-item {display: flex;flex-direction: column;z-index: 1;position: relative;background-color: white;}#sk-container-id-1 div.sk-parallel-item:first-child::after {align-self: flex-end;width: 50%;}#sk-container-id-1 div.sk-parallel-item:last-child::after {align-self: flex-start;width: 50%;}#sk-container-id-1 div.sk-parallel-item:only-child::after {width: 0;}#sk-container-id-1 div.sk-dashed-wrapped {border: 1px dashed gray;margin: 0 0.4em 0.5em 0.4em;box-sizing: border-box;padding-bottom: 0.4em;background-color: white;}#sk-container-id-1 div.sk-label label {font-family: monospace;font-weight: bold;display: inline-block;line-height: 1.2em;}#sk-container-id-1 div.sk-label-container {text-align: center;}#sk-container-id-1 div.sk-container {/* jupyter's `normalize.less` sets `[hidden] { display: none; }` but bootstrap.min.css set `[hidden] { display: none !important; }` so we also need the `!important` here to be able to override the default hidden behavior on the sphinx rendered scikit-learn.org. See: https://github.com/scikit-learn/scikit-learn/issues/21755 */display: inline-block !important;position: relative;}#sk-container-id-1 div.sk-text-repr-fallback {display: none;}</style><div id=\"sk-container-id-1\" class=\"sk-top-container\"><div class=\"sk-text-repr-fallback\"><pre>LogisticRegression(solver=&#x27;sag&#x27;)</pre><b>In a Jupyter environment, please rerun this cell to show the HTML representation or trust the notebook. <br />On GitHub, the HTML representation is unable to render, please try loading this page with nbviewer.org.</b></div><div class=\"sk-container\" hidden><div class=\"sk-item\"><div class=\"sk-estimator sk-toggleable\"><input class=\"sk-toggleable__control sk-hidden--visually\" id=\"sk-estimator-id-1\" type=\"checkbox\" checked><label for=\"sk-estimator-id-1\" class=\"sk-toggleable__label sk-toggleable__label-arrow\">LogisticRegression</label><div class=\"sk-toggleable__content\"><pre>LogisticRegression(solver=&#x27;sag&#x27;)</pre></div></div></div></div></div>"
      ],
      "text/plain": [
       "LogisticRegression(solver='sag')"
      ]
     },
     "execution_count": 12,
     "metadata": {},
     "output_type": "execute_result"
    }
   ],
   "source": [
    "lm.fit(X_train,y_train)"
   ]
  },
  {
   "cell_type": "code",
   "execution_count": 13,
   "id": "9f0f6222",
   "metadata": {
    "execution": {
     "iopub.execute_input": "2023-06-24T00:00:14.932157Z",
     "iopub.status.busy": "2023-06-24T00:00:14.931777Z",
     "iopub.status.idle": "2023-06-24T00:00:14.940444Z",
     "shell.execute_reply": "2023-06-24T00:00:14.939534Z"
    },
    "papermill": {
     "duration": 0.0183,
     "end_time": "2023-06-24T00:00:14.942547",
     "exception": false,
     "start_time": "2023-06-24T00:00:14.924247",
     "status": "completed"
    },
    "tags": []
   },
   "outputs": [],
   "source": [
    "pred_lm = lm.predict(X_test)"
   ]
  },
  {
   "cell_type": "code",
   "execution_count": 14,
   "id": "55e132e9",
   "metadata": {
    "execution": {
     "iopub.execute_input": "2023-06-24T00:00:14.957539Z",
     "iopub.status.busy": "2023-06-24T00:00:14.956856Z",
     "iopub.status.idle": "2023-06-24T00:00:14.982292Z",
     "shell.execute_reply": "2023-06-24T00:00:14.980702Z"
    },
    "papermill": {
     "duration": 0.035303,
     "end_time": "2023-06-24T00:00:14.984422",
     "exception": false,
     "start_time": "2023-06-24T00:00:14.949119",
     "status": "completed"
    },
    "tags": []
   },
   "outputs": [
    {
     "name": "stdout",
     "output_type": "stream",
     "text": [
      "Classification Report for logistics regression\n",
      "              precision    recall  f1-score   support\n",
      "\n",
      "           0       1.00      0.99      0.99       574\n",
      "           1       1.00      1.00      1.00       609\n",
      "           2       0.97      0.97      0.97       568\n",
      "           3       1.00      0.99      1.00       575\n",
      "           4       1.00      0.99      1.00       566\n",
      "           5       0.97      0.99      0.98       643\n",
      "           6       0.99      0.99      0.99       587\n",
      "           7       1.00      1.00      1.00       615\n",
      "           8       1.00      1.00      1.00       624\n",
      "           9       0.97      1.00      0.98       605\n",
      "          10       0.97      0.94      0.96       634\n",
      "\n",
      "    accuracy                           0.99      6600\n",
      "   macro avg       0.99      0.99      0.99      6600\n",
      "weighted avg       0.99      0.99      0.99      6600\n",
      "\n"
     ]
    }
   ],
   "source": [
    "from sklearn.metrics import classification_report\n",
    "print('Classification Report for logistics regression')\n",
    "print(classification_report(y_test, pred_lm))"
   ]
  },
  {
   "cell_type": "code",
   "execution_count": 15,
   "id": "65f2806b",
   "metadata": {
    "execution": {
     "iopub.execute_input": "2023-06-24T00:00:14.999151Z",
     "iopub.status.busy": "2023-06-24T00:00:14.998798Z",
     "iopub.status.idle": "2023-06-24T00:00:15.010465Z",
     "shell.execute_reply": "2023-06-24T00:00:15.009233Z"
    },
    "papermill": {
     "duration": 0.021378,
     "end_time": "2023-06-24T00:00:15.012685",
     "exception": false,
     "start_time": "2023-06-24T00:00:14.991307",
     "status": "completed"
    },
    "tags": []
   },
   "outputs": [
    {
     "data": {
      "text/html": [
       "<div>\n",
       "<style scoped>\n",
       "    .dataframe tbody tr th:only-of-type {\n",
       "        vertical-align: middle;\n",
       "    }\n",
       "\n",
       "    .dataframe tbody tr th {\n",
       "        vertical-align: top;\n",
       "    }\n",
       "\n",
       "    .dataframe thead th {\n",
       "        text-align: right;\n",
       "    }\n",
       "</style>\n",
       "<table border=\"1\" class=\"dataframe\">\n",
       "  <thead>\n",
       "    <tr style=\"text-align: right;\">\n",
       "      <th></th>\n",
       "      <th>index</th>\n",
       "      <th>text</th>\n",
       "    </tr>\n",
       "  </thead>\n",
       "  <tbody>\n",
       "    <tr>\n",
       "      <th>0</th>\n",
       "      <td>1</td>\n",
       "      <td>Mmasepala, fa maemo a a kgethegileng a letlele...</td>\n",
       "    </tr>\n",
       "    <tr>\n",
       "      <th>1</th>\n",
       "      <td>2</td>\n",
       "      <td>Uzakwaziswa ngokufaneleko nakungafuneka eminye...</td>\n",
       "    </tr>\n",
       "    <tr>\n",
       "      <th>2</th>\n",
       "      <td>3</td>\n",
       "      <td>Tshivhumbeo tshi fana na ngano dza vhathu.</td>\n",
       "    </tr>\n",
       "    <tr>\n",
       "      <th>3</th>\n",
       "      <td>4</td>\n",
       "      <td>Kube inja nelikati betingevakala kutsi titsini...</td>\n",
       "    </tr>\n",
       "    <tr>\n",
       "      <th>4</th>\n",
       "      <td>5</td>\n",
       "      <td>Winste op buitelandse valuta.</td>\n",
       "    </tr>\n",
       "    <tr>\n",
       "      <th>...</th>\n",
       "      <td>...</td>\n",
       "      <td>...</td>\n",
       "    </tr>\n",
       "    <tr>\n",
       "      <th>5677</th>\n",
       "      <td>5678</td>\n",
       "      <td>You mark your ballot in private.</td>\n",
       "    </tr>\n",
       "    <tr>\n",
       "      <th>5678</th>\n",
       "      <td>5679</td>\n",
       "      <td>Ge o ka kgetha ka bowena go se šomiše Mofani k...</td>\n",
       "    </tr>\n",
       "    <tr>\n",
       "      <th>5679</th>\n",
       "      <td>5680</td>\n",
       "      <td>E Ka kopo etsa kgetho ya hao ka hloko, hobane ...</td>\n",
       "    </tr>\n",
       "    <tr>\n",
       "      <th>5680</th>\n",
       "      <td>5681</td>\n",
       "      <td>TB ke bokudi ba PMB, mme Morero o tla lefella ...</td>\n",
       "    </tr>\n",
       "    <tr>\n",
       "      <th>5681</th>\n",
       "      <td>5682</td>\n",
       "      <td>Vakatjhela iwebhusayidi yethu ku-www.</td>\n",
       "    </tr>\n",
       "  </tbody>\n",
       "</table>\n",
       "<p>5682 rows × 2 columns</p>\n",
       "</div>"
      ],
      "text/plain": [
       "      index                                               text\n",
       "0         1  Mmasepala, fa maemo a a kgethegileng a letlele...\n",
       "1         2  Uzakwaziswa ngokufaneleko nakungafuneka eminye...\n",
       "2         3         Tshivhumbeo tshi fana na ngano dza vhathu.\n",
       "3         4  Kube inja nelikati betingevakala kutsi titsini...\n",
       "4         5                      Winste op buitelandse valuta.\n",
       "...     ...                                                ...\n",
       "5677   5678                   You mark your ballot in private.\n",
       "5678   5679  Ge o ka kgetha ka bowena go se šomiše Mofani k...\n",
       "5679   5680  E Ka kopo etsa kgetho ya hao ka hloko, hobane ...\n",
       "5680   5681  TB ke bokudi ba PMB, mme Morero o tla lefella ...\n",
       "5681   5682              Vakatjhela iwebhusayidi yethu ku-www.\n",
       "\n",
       "[5682 rows x 2 columns]"
      ]
     },
     "execution_count": 15,
     "metadata": {},
     "output_type": "execute_result"
    }
   ],
   "source": [
    "df_test"
   ]
  },
  {
   "cell_type": "code",
   "execution_count": 16,
   "id": "aa1f9e8f",
   "metadata": {
    "execution": {
     "iopub.execute_input": "2023-06-24T00:00:15.028298Z",
     "iopub.status.busy": "2023-06-24T00:00:15.027952Z",
     "iopub.status.idle": "2023-06-24T00:00:15.040752Z",
     "shell.execute_reply": "2023-06-24T00:00:15.039715Z"
    },
    "papermill": {
     "duration": 0.023063,
     "end_time": "2023-06-24T00:00:15.042682",
     "exception": false,
     "start_time": "2023-06-24T00:00:15.019619",
     "status": "completed"
    },
    "tags": []
   },
   "outputs": [],
   "source": [
    "df_test=df_test.applymap(lambda x: x.lower() if isinstance(x, str) else x)"
   ]
  },
  {
   "cell_type": "code",
   "execution_count": 17,
   "id": "ee8ea95a",
   "metadata": {
    "execution": {
     "iopub.execute_input": "2023-06-24T00:00:15.058041Z",
     "iopub.status.busy": "2023-06-24T00:00:15.057451Z",
     "iopub.status.idle": "2023-06-24T00:00:15.069538Z",
     "shell.execute_reply": "2023-06-24T00:00:15.068148Z"
    },
    "papermill": {
     "duration": 0.022286,
     "end_time": "2023-06-24T00:00:15.072063",
     "exception": false,
     "start_time": "2023-06-24T00:00:15.049777",
     "status": "completed"
    },
    "tags": []
   },
   "outputs": [
    {
     "data": {
      "text/html": [
       "<div>\n",
       "<style scoped>\n",
       "    .dataframe tbody tr th:only-of-type {\n",
       "        vertical-align: middle;\n",
       "    }\n",
       "\n",
       "    .dataframe tbody tr th {\n",
       "        vertical-align: top;\n",
       "    }\n",
       "\n",
       "    .dataframe thead th {\n",
       "        text-align: right;\n",
       "    }\n",
       "</style>\n",
       "<table border=\"1\" class=\"dataframe\">\n",
       "  <thead>\n",
       "    <tr style=\"text-align: right;\">\n",
       "      <th></th>\n",
       "      <th>index</th>\n",
       "      <th>text</th>\n",
       "    </tr>\n",
       "  </thead>\n",
       "  <tbody>\n",
       "    <tr>\n",
       "      <th>0</th>\n",
       "      <td>1</td>\n",
       "      <td>mmasepala, fa maemo a a kgethegileng a letlele...</td>\n",
       "    </tr>\n",
       "    <tr>\n",
       "      <th>1</th>\n",
       "      <td>2</td>\n",
       "      <td>uzakwaziswa ngokufaneleko nakungafuneka eminye...</td>\n",
       "    </tr>\n",
       "    <tr>\n",
       "      <th>2</th>\n",
       "      <td>3</td>\n",
       "      <td>tshivhumbeo tshi fana na ngano dza vhathu.</td>\n",
       "    </tr>\n",
       "    <tr>\n",
       "      <th>3</th>\n",
       "      <td>4</td>\n",
       "      <td>kube inja nelikati betingevakala kutsi titsini...</td>\n",
       "    </tr>\n",
       "    <tr>\n",
       "      <th>4</th>\n",
       "      <td>5</td>\n",
       "      <td>winste op buitelandse valuta.</td>\n",
       "    </tr>\n",
       "    <tr>\n",
       "      <th>...</th>\n",
       "      <td>...</td>\n",
       "      <td>...</td>\n",
       "    </tr>\n",
       "    <tr>\n",
       "      <th>5677</th>\n",
       "      <td>5678</td>\n",
       "      <td>you mark your ballot in private.</td>\n",
       "    </tr>\n",
       "    <tr>\n",
       "      <th>5678</th>\n",
       "      <td>5679</td>\n",
       "      <td>ge o ka kgetha ka bowena go se šomiše mofani k...</td>\n",
       "    </tr>\n",
       "    <tr>\n",
       "      <th>5679</th>\n",
       "      <td>5680</td>\n",
       "      <td>e ka kopo etsa kgetho ya hao ka hloko, hobane ...</td>\n",
       "    </tr>\n",
       "    <tr>\n",
       "      <th>5680</th>\n",
       "      <td>5681</td>\n",
       "      <td>tb ke bokudi ba pmb, mme morero o tla lefella ...</td>\n",
       "    </tr>\n",
       "    <tr>\n",
       "      <th>5681</th>\n",
       "      <td>5682</td>\n",
       "      <td>vakatjhela iwebhusayidi yethu ku-www.</td>\n",
       "    </tr>\n",
       "  </tbody>\n",
       "</table>\n",
       "<p>5682 rows × 2 columns</p>\n",
       "</div>"
      ],
      "text/plain": [
       "      index                                               text\n",
       "0         1  mmasepala, fa maemo a a kgethegileng a letlele...\n",
       "1         2  uzakwaziswa ngokufaneleko nakungafuneka eminye...\n",
       "2         3         tshivhumbeo tshi fana na ngano dza vhathu.\n",
       "3         4  kube inja nelikati betingevakala kutsi titsini...\n",
       "4         5                      winste op buitelandse valuta.\n",
       "...     ...                                                ...\n",
       "5677   5678                   you mark your ballot in private.\n",
       "5678   5679  ge o ka kgetha ka bowena go se šomiše mofani k...\n",
       "5679   5680  e ka kopo etsa kgetho ya hao ka hloko, hobane ...\n",
       "5680   5681  tb ke bokudi ba pmb, mme morero o tla lefella ...\n",
       "5681   5682              vakatjhela iwebhusayidi yethu ku-www.\n",
       "\n",
       "[5682 rows x 2 columns]"
      ]
     },
     "execution_count": 17,
     "metadata": {},
     "output_type": "execute_result"
    }
   ],
   "source": [
    "df_test"
   ]
  },
  {
   "cell_type": "code",
   "execution_count": 18,
   "id": "c10754fa",
   "metadata": {
    "execution": {
     "iopub.execute_input": "2023-06-24T00:00:15.088185Z",
     "iopub.status.busy": "2023-06-24T00:00:15.087861Z",
     "iopub.status.idle": "2023-06-24T00:00:15.181718Z",
     "shell.execute_reply": "2023-06-24T00:00:15.180770Z"
    },
    "papermill": {
     "duration": 0.104756,
     "end_time": "2023-06-24T00:00:15.184124",
     "exception": false,
     "start_time": "2023-06-24T00:00:15.079368",
     "status": "completed"
    },
    "tags": []
   },
   "outputs": [],
   "source": [
    "\n",
    "\n",
    "vectorizer1 = HashingVectorizer(n_features=33000)\n",
    "\n",
    "\n",
    "vector1 = vectorizer1.transform(df_test['text'])"
   ]
  },
  {
   "cell_type": "code",
   "execution_count": 19,
   "id": "edecf05d",
   "metadata": {
    "execution": {
     "iopub.execute_input": "2023-06-24T00:00:15.199625Z",
     "iopub.status.busy": "2023-06-24T00:00:15.199286Z",
     "iopub.status.idle": "2023-06-24T00:00:15.203547Z",
     "shell.execute_reply": "2023-06-24T00:00:15.202292Z"
    },
    "papermill": {
     "duration": 0.015131,
     "end_time": "2023-06-24T00:00:15.206439",
     "exception": false,
     "start_time": "2023-06-24T00:00:15.191308",
     "status": "completed"
    },
    "tags": []
   },
   "outputs": [],
   "source": [
    "xt=vector1"
   ]
  },
  {
   "cell_type": "code",
   "execution_count": 20,
   "id": "346eb05e",
   "metadata": {
    "execution": {
     "iopub.execute_input": "2023-06-24T00:00:15.221554Z",
     "iopub.status.busy": "2023-06-24T00:00:15.221251Z",
     "iopub.status.idle": "2023-06-24T00:00:15.227343Z",
     "shell.execute_reply": "2023-06-24T00:00:15.225625Z"
    },
    "papermill": {
     "duration": 0.016251,
     "end_time": "2023-06-24T00:00:15.229815",
     "exception": false,
     "start_time": "2023-06-24T00:00:15.213564",
     "status": "completed"
    },
    "tags": []
   },
   "outputs": [],
   "source": [
    "x=vector\n",
    "y=df['lang_id']"
   ]
  },
  {
   "cell_type": "code",
   "execution_count": 21,
   "id": "81a44e7e",
   "metadata": {
    "execution": {
     "iopub.execute_input": "2023-06-24T00:00:15.245582Z",
     "iopub.status.busy": "2023-06-24T00:00:15.245236Z",
     "iopub.status.idle": "2023-06-24T00:00:16.878634Z",
     "shell.execute_reply": "2023-06-24T00:00:16.877553Z"
    },
    "papermill": {
     "duration": 1.643718,
     "end_time": "2023-06-24T00:00:16.880805",
     "exception": false,
     "start_time": "2023-06-24T00:00:15.237087",
     "status": "completed"
    },
    "tags": []
   },
   "outputs": [
    {
     "data": {
      "text/html": [
       "<style>#sk-container-id-2 {color: black;background-color: white;}#sk-container-id-2 pre{padding: 0;}#sk-container-id-2 div.sk-toggleable {background-color: white;}#sk-container-id-2 label.sk-toggleable__label {cursor: pointer;display: block;width: 100%;margin-bottom: 0;padding: 0.3em;box-sizing: border-box;text-align: center;}#sk-container-id-2 label.sk-toggleable__label-arrow:before {content: \"▸\";float: left;margin-right: 0.25em;color: #696969;}#sk-container-id-2 label.sk-toggleable__label-arrow:hover:before {color: black;}#sk-container-id-2 div.sk-estimator:hover label.sk-toggleable__label-arrow:before {color: black;}#sk-container-id-2 div.sk-toggleable__content {max-height: 0;max-width: 0;overflow: hidden;text-align: left;background-color: #f0f8ff;}#sk-container-id-2 div.sk-toggleable__content pre {margin: 0.2em;color: black;border-radius: 0.25em;background-color: #f0f8ff;}#sk-container-id-2 input.sk-toggleable__control:checked~div.sk-toggleable__content {max-height: 200px;max-width: 100%;overflow: auto;}#sk-container-id-2 input.sk-toggleable__control:checked~label.sk-toggleable__label-arrow:before {content: \"▾\";}#sk-container-id-2 div.sk-estimator input.sk-toggleable__control:checked~label.sk-toggleable__label {background-color: #d4ebff;}#sk-container-id-2 div.sk-label input.sk-toggleable__control:checked~label.sk-toggleable__label {background-color: #d4ebff;}#sk-container-id-2 input.sk-hidden--visually {border: 0;clip: rect(1px 1px 1px 1px);clip: rect(1px, 1px, 1px, 1px);height: 1px;margin: -1px;overflow: hidden;padding: 0;position: absolute;width: 1px;}#sk-container-id-2 div.sk-estimator {font-family: monospace;background-color: #f0f8ff;border: 1px dotted black;border-radius: 0.25em;box-sizing: border-box;margin-bottom: 0.5em;}#sk-container-id-2 div.sk-estimator:hover {background-color: #d4ebff;}#sk-container-id-2 div.sk-parallel-item::after {content: \"\";width: 100%;border-bottom: 1px solid gray;flex-grow: 1;}#sk-container-id-2 div.sk-label:hover label.sk-toggleable__label {background-color: #d4ebff;}#sk-container-id-2 div.sk-serial::before {content: \"\";position: absolute;border-left: 1px solid gray;box-sizing: border-box;top: 0;bottom: 0;left: 50%;z-index: 0;}#sk-container-id-2 div.sk-serial {display: flex;flex-direction: column;align-items: center;background-color: white;padding-right: 0.2em;padding-left: 0.2em;position: relative;}#sk-container-id-2 div.sk-item {position: relative;z-index: 1;}#sk-container-id-2 div.sk-parallel {display: flex;align-items: stretch;justify-content: center;background-color: white;position: relative;}#sk-container-id-2 div.sk-item::before, #sk-container-id-2 div.sk-parallel-item::before {content: \"\";position: absolute;border-left: 1px solid gray;box-sizing: border-box;top: 0;bottom: 0;left: 50%;z-index: -1;}#sk-container-id-2 div.sk-parallel-item {display: flex;flex-direction: column;z-index: 1;position: relative;background-color: white;}#sk-container-id-2 div.sk-parallel-item:first-child::after {align-self: flex-end;width: 50%;}#sk-container-id-2 div.sk-parallel-item:last-child::after {align-self: flex-start;width: 50%;}#sk-container-id-2 div.sk-parallel-item:only-child::after {width: 0;}#sk-container-id-2 div.sk-dashed-wrapped {border: 1px dashed gray;margin: 0 0.4em 0.5em 0.4em;box-sizing: border-box;padding-bottom: 0.4em;background-color: white;}#sk-container-id-2 div.sk-label label {font-family: monospace;font-weight: bold;display: inline-block;line-height: 1.2em;}#sk-container-id-2 div.sk-label-container {text-align: center;}#sk-container-id-2 div.sk-container {/* jupyter's `normalize.less` sets `[hidden] { display: none; }` but bootstrap.min.css set `[hidden] { display: none !important; }` so we also need the `!important` here to be able to override the default hidden behavior on the sphinx rendered scikit-learn.org. See: https://github.com/scikit-learn/scikit-learn/issues/21755 */display: inline-block !important;position: relative;}#sk-container-id-2 div.sk-text-repr-fallback {display: none;}</style><div id=\"sk-container-id-2\" class=\"sk-top-container\"><div class=\"sk-text-repr-fallback\"><pre>LogisticRegression(solver=&#x27;sag&#x27;)</pre><b>In a Jupyter environment, please rerun this cell to show the HTML representation or trust the notebook. <br />On GitHub, the HTML representation is unable to render, please try loading this page with nbviewer.org.</b></div><div class=\"sk-container\" hidden><div class=\"sk-item\"><div class=\"sk-estimator sk-toggleable\"><input class=\"sk-toggleable__control sk-hidden--visually\" id=\"sk-estimator-id-2\" type=\"checkbox\" checked><label for=\"sk-estimator-id-2\" class=\"sk-toggleable__label sk-toggleable__label-arrow\">LogisticRegression</label><div class=\"sk-toggleable__content\"><pre>LogisticRegression(solver=&#x27;sag&#x27;)</pre></div></div></div></div></div>"
      ],
      "text/plain": [
       "LogisticRegression(solver='sag')"
      ]
     },
     "execution_count": 21,
     "metadata": {},
     "output_type": "execute_result"
    }
   ],
   "source": [
    "lm.fit(x,y)"
   ]
  },
  {
   "cell_type": "code",
   "execution_count": 22,
   "id": "12f1dcd0",
   "metadata": {
    "execution": {
     "iopub.execute_input": "2023-06-24T00:00:16.897617Z",
     "iopub.status.busy": "2023-06-24T00:00:16.897295Z",
     "iopub.status.idle": "2023-06-24T00:00:16.905574Z",
     "shell.execute_reply": "2023-06-24T00:00:16.904274Z"
    },
    "papermill": {
     "duration": 0.019952,
     "end_time": "2023-06-24T00:00:16.908058",
     "exception": false,
     "start_time": "2023-06-24T00:00:16.888106",
     "status": "completed"
    },
    "tags": []
   },
   "outputs": [],
   "source": [
    "pred_lm = lm.predict(xt)"
   ]
  },
  {
   "cell_type": "code",
   "execution_count": 23,
   "id": "a0c3b4b0",
   "metadata": {
    "execution": {
     "iopub.execute_input": "2023-06-24T00:00:16.924078Z",
     "iopub.status.busy": "2023-06-24T00:00:16.923723Z",
     "iopub.status.idle": "2023-06-24T00:00:16.931632Z",
     "shell.execute_reply": "2023-06-24T00:00:16.930363Z"
    },
    "papermill": {
     "duration": 0.018124,
     "end_time": "2023-06-24T00:00:16.933398",
     "exception": false,
     "start_time": "2023-06-24T00:00:16.915274",
     "status": "completed"
    },
    "tags": []
   },
   "outputs": [
    {
     "data": {
      "text/plain": [
       "array([5, 2, 8, ..., 4, 4, 5])"
      ]
     },
     "execution_count": 23,
     "metadata": {},
     "output_type": "execute_result"
    }
   ],
   "source": [
    "pred_lm"
   ]
  },
  {
   "cell_type": "code",
   "execution_count": 24,
   "id": "95956fda",
   "metadata": {
    "execution": {
     "iopub.execute_input": "2023-06-24T00:00:16.949067Z",
     "iopub.status.busy": "2023-06-24T00:00:16.948738Z",
     "iopub.status.idle": "2023-06-24T00:00:16.954942Z",
     "shell.execute_reply": "2023-06-24T00:00:16.953512Z"
    },
    "papermill": {
     "duration": 0.016573,
     "end_time": "2023-06-24T00:00:16.957119",
     "exception": false,
     "start_time": "2023-06-24T00:00:16.940546",
     "status": "completed"
    },
    "tags": []
   },
   "outputs": [],
   "source": [
    "txt_pred = le.inverse_transform(pred_lm)\n"
   ]
  },
  {
   "cell_type": "code",
   "execution_count": 25,
   "id": "57d791e3",
   "metadata": {
    "execution": {
     "iopub.execute_input": "2023-06-24T00:00:16.974501Z",
     "iopub.status.busy": "2023-06-24T00:00:16.974140Z",
     "iopub.status.idle": "2023-06-24T00:00:16.980235Z",
     "shell.execute_reply": "2023-06-24T00:00:16.978648Z"
    },
    "papermill": {
     "duration": 0.017099,
     "end_time": "2023-06-24T00:00:16.981921",
     "exception": false,
     "start_time": "2023-06-24T00:00:16.964822",
     "status": "completed"
    },
    "tags": []
   },
   "outputs": [
    {
     "name": "stdout",
     "output_type": "stream",
     "text": [
      "['ssw' 'nbl' 'ven' ... 'sot' 'sot' 'ssw']\n"
     ]
    }
   ],
   "source": [
    "print(txt_pred)"
   ]
  },
  {
   "cell_type": "code",
   "execution_count": 26,
   "id": "cd04aeff",
   "metadata": {
    "execution": {
     "iopub.execute_input": "2023-06-24T00:00:16.997320Z",
     "iopub.status.busy": "2023-06-24T00:00:16.996958Z",
     "iopub.status.idle": "2023-06-24T00:00:17.007197Z",
     "shell.execute_reply": "2023-06-24T00:00:17.006010Z"
    },
    "papermill": {
     "duration": 0.020091,
     "end_time": "2023-06-24T00:00:17.009022",
     "exception": false,
     "start_time": "2023-06-24T00:00:16.988931",
     "status": "completed"
    },
    "tags": []
   },
   "outputs": [
    {
     "data": {
      "text/html": [
       "<div>\n",
       "<style scoped>\n",
       "    .dataframe tbody tr th:only-of-type {\n",
       "        vertical-align: middle;\n",
       "    }\n",
       "\n",
       "    .dataframe tbody tr th {\n",
       "        vertical-align: top;\n",
       "    }\n",
       "\n",
       "    .dataframe thead th {\n",
       "        text-align: right;\n",
       "    }\n",
       "</style>\n",
       "<table border=\"1\" class=\"dataframe\">\n",
       "  <thead>\n",
       "    <tr style=\"text-align: right;\">\n",
       "      <th></th>\n",
       "      <th>lang_id</th>\n",
       "    </tr>\n",
       "  </thead>\n",
       "  <tbody>\n",
       "    <tr>\n",
       "      <th>0</th>\n",
       "      <td>ssw</td>\n",
       "    </tr>\n",
       "    <tr>\n",
       "      <th>1</th>\n",
       "      <td>nbl</td>\n",
       "    </tr>\n",
       "    <tr>\n",
       "      <th>2</th>\n",
       "      <td>ven</td>\n",
       "    </tr>\n",
       "    <tr>\n",
       "      <th>3</th>\n",
       "      <td>ssw</td>\n",
       "    </tr>\n",
       "    <tr>\n",
       "      <th>4</th>\n",
       "      <td>nbl</td>\n",
       "    </tr>\n",
       "  </tbody>\n",
       "</table>\n",
       "</div>"
      ],
      "text/plain": [
       "  lang_id\n",
       "0     ssw\n",
       "1     nbl\n",
       "2     ven\n",
       "3     ssw\n",
       "4     nbl"
      ]
     },
     "execution_count": 26,
     "metadata": {},
     "output_type": "execute_result"
    }
   ],
   "source": [
    "daf = pd.DataFrame(txt_pred, columns=['lang_id'])\n",
    "daf.head()"
   ]
  },
  {
   "cell_type": "code",
   "execution_count": 27,
   "id": "e25f40e3",
   "metadata": {
    "execution": {
     "iopub.execute_input": "2023-06-24T00:00:17.024966Z",
     "iopub.status.busy": "2023-06-24T00:00:17.024588Z",
     "iopub.status.idle": "2023-06-24T00:00:17.053476Z",
     "shell.execute_reply": "2023-06-24T00:00:17.051958Z"
    },
    "papermill": {
     "duration": 0.0394,
     "end_time": "2023-06-24T00:00:17.055816",
     "exception": false,
     "start_time": "2023-06-24T00:00:17.016416",
     "status": "completed"
    },
    "tags": []
   },
   "outputs": [],
   "source": [
    "output = pd.DataFrame({'index':df_test['index']})\n",
    "submission = output.join(daf)\n",
    "submission.to_csv('submission.csv',index=False)"
   ]
  },
  {
   "cell_type": "code",
   "execution_count": 28,
   "id": "4612fdce",
   "metadata": {
    "execution": {
     "iopub.execute_input": "2023-06-24T00:00:17.072655Z",
     "iopub.status.busy": "2023-06-24T00:00:17.072321Z",
     "iopub.status.idle": "2023-06-24T00:00:17.082622Z",
     "shell.execute_reply": "2023-06-24T00:00:17.081701Z"
    },
    "papermill": {
     "duration": 0.021411,
     "end_time": "2023-06-24T00:00:17.084905",
     "exception": false,
     "start_time": "2023-06-24T00:00:17.063494",
     "status": "completed"
    },
    "tags": []
   },
   "outputs": [
    {
     "data": {
      "text/html": [
       "<div>\n",
       "<style scoped>\n",
       "    .dataframe tbody tr th:only-of-type {\n",
       "        vertical-align: middle;\n",
       "    }\n",
       "\n",
       "    .dataframe tbody tr th {\n",
       "        vertical-align: top;\n",
       "    }\n",
       "\n",
       "    .dataframe thead th {\n",
       "        text-align: right;\n",
       "    }\n",
       "</style>\n",
       "<table border=\"1\" class=\"dataframe\">\n",
       "  <thead>\n",
       "    <tr style=\"text-align: right;\">\n",
       "      <th></th>\n",
       "      <th>index</th>\n",
       "      <th>lang_id</th>\n",
       "    </tr>\n",
       "  </thead>\n",
       "  <tbody>\n",
       "    <tr>\n",
       "      <th>0</th>\n",
       "      <td>1</td>\n",
       "      <td>ssw</td>\n",
       "    </tr>\n",
       "    <tr>\n",
       "      <th>1</th>\n",
       "      <td>2</td>\n",
       "      <td>nbl</td>\n",
       "    </tr>\n",
       "    <tr>\n",
       "      <th>2</th>\n",
       "      <td>3</td>\n",
       "      <td>ven</td>\n",
       "    </tr>\n",
       "    <tr>\n",
       "      <th>3</th>\n",
       "      <td>4</td>\n",
       "      <td>ssw</td>\n",
       "    </tr>\n",
       "    <tr>\n",
       "      <th>4</th>\n",
       "      <td>5</td>\n",
       "      <td>nbl</td>\n",
       "    </tr>\n",
       "    <tr>\n",
       "      <th>...</th>\n",
       "      <td>...</td>\n",
       "      <td>...</td>\n",
       "    </tr>\n",
       "    <tr>\n",
       "      <th>5677</th>\n",
       "      <td>5678</td>\n",
       "      <td>xho</td>\n",
       "    </tr>\n",
       "    <tr>\n",
       "      <th>5678</th>\n",
       "      <td>5679</td>\n",
       "      <td>nso</td>\n",
       "    </tr>\n",
       "    <tr>\n",
       "      <th>5679</th>\n",
       "      <td>5680</td>\n",
       "      <td>sot</td>\n",
       "    </tr>\n",
       "    <tr>\n",
       "      <th>5680</th>\n",
       "      <td>5681</td>\n",
       "      <td>sot</td>\n",
       "    </tr>\n",
       "    <tr>\n",
       "      <th>5681</th>\n",
       "      <td>5682</td>\n",
       "      <td>ssw</td>\n",
       "    </tr>\n",
       "  </tbody>\n",
       "</table>\n",
       "<p>5682 rows × 2 columns</p>\n",
       "</div>"
      ],
      "text/plain": [
       "      index lang_id\n",
       "0         1     ssw\n",
       "1         2     nbl\n",
       "2         3     ven\n",
       "3         4     ssw\n",
       "4         5     nbl\n",
       "...     ...     ...\n",
       "5677   5678     xho\n",
       "5678   5679     nso\n",
       "5679   5680     sot\n",
       "5680   5681     sot\n",
       "5681   5682     ssw\n",
       "\n",
       "[5682 rows x 2 columns]"
      ]
     },
     "execution_count": 28,
     "metadata": {},
     "output_type": "execute_result"
    }
   ],
   "source": [
    "submission"
   ]
  }
 ],
 "metadata": {
  "kernelspec": {
   "display_name": "Python 3 (ipykernel)",
   "language": "python",
   "name": "python3"
  },
  "language_info": {
   "codemirror_mode": {
    "name": "ipython",
    "version": 3
   },
   "file_extension": ".py",
   "mimetype": "text/x-python",
   "name": "python",
   "nbconvert_exporter": "python",
   "pygments_lexer": "ipython3",
   "version": "3.11.5"
  },
  "papermill": {
   "default_parameters": {},
   "duration": 17.006993,
   "end_time": "2023-06-24T00:00:18.013505",
   "environment_variables": {},
   "exception": null,
   "input_path": "__notebook__.ipynb",
   "output_path": "__notebook__.ipynb",
   "parameters": {},
   "start_time": "2023-06-24T00:00:01.006512",
   "version": "2.4.0"
  }
 },
 "nbformat": 4,
 "nbformat_minor": 5
}
